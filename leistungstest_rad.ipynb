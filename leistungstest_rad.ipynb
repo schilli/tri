{
 "cells": [
  {
   "cell_type": "markdown",
   "id": "c1d13ae6",
   "metadata": {},
   "source": [
    "# Leistungstest Analysis Laufen"
   ]
  },
  {
   "cell_type": "code",
   "execution_count": 1,
   "id": "5540753a",
   "metadata": {},
   "outputs": [],
   "source": [
    "%load_ext autoreload\n",
    "%autoreload 2\n",
    "\n",
    "import trilib\n",
    "\n",
    "import matplotlib.pyplot as plt\n",
    "%matplotlib inline"
   ]
  },
  {
   "cell_type": "markdown",
   "id": "534081fe",
   "metadata": {},
   "source": [
    "## Load Data\n",
    "### Load the FIT file"
   ]
  },
  {
   "cell_type": "code",
   "execution_count": 2,
   "id": "8a1a93d4",
   "metadata": {},
   "outputs": [],
   "source": [
    "fitfilename = \"../data/leistungstest_rad_2021-04-21.fit\"\n",
    "df, units = trilib.fit2df(fitfilename)"
   ]
  },
  {
   "cell_type": "raw",
   "id": "39489770",
   "metadata": {},
   "source": [
    "df.head()"
   ]
  },
  {
   "cell_type": "markdown",
   "id": "b683e50b",
   "metadata": {},
   "source": [
    "### Load CSV Round Times"
   ]
  },
  {
   "cell_type": "code",
   "execution_count": 3,
   "id": "9b11803e",
   "metadata": {},
   "outputs": [],
   "source": [
    "rounds = trilib.read_rounds('../data/leistungstest_rad_2021-04-21.csv', starttime=df.timestamp.min())\n",
    "#rounds.head()"
   ]
  },
  {
   "cell_type": "markdown",
   "id": "52c3d80c",
   "metadata": {},
   "source": [
    "## Analysis"
   ]
  },
  {
   "cell_type": "code",
   "execution_count": 4,
   "id": "dc7c3652",
   "metadata": {},
   "outputs": [
    {
     "data": {
      "text/plain": [
       "[<matplotlib.lines.Line2D at 0x7f91f5015a90>]"
      ]
     },
     "execution_count": 4,
     "metadata": {},
     "output_type": "execute_result"
    },
    {
     "data": {
      "image/png": "[encoded data removed]",
      "text/plain": [
       "<Figure size 432x288 with 1 Axes>"
      ]
     },
     "metadata": {
      "needs_background": "light"
     },
     "output_type": "display_data"
    }
   ],
   "source": [
    "plt.plot(df.timestamp, df.power)"
   ]
  },
  {
   "cell_type": "code",
   "execution_count": 12,
   "id": "23c8b9ac",
   "metadata": {},
   "outputs": [
    {
     "name": "stdout",
     "output_type": "stream",
     "text": [
      "Estimated FTP is: 272 Watts on 2021-04-21 16:57:47\n"
     ]
    }
   ],
   "source": [
    "print(f'Estimated FTP is: {trilib.ftp_ramp_test(df)} Watts on {df.timestamp.max()}')"
   ]
  },
  {
   "cell_type": "code",
   "execution_count": null,
   "id": "6b7b86d5",
   "metadata": {},
   "outputs": [],
   "source": []
  }
 ],
 "metadata": {
  "kernelspec": {
   "display_name": "Python 3",
   "language": "python",
   "name": "python3"
  },
  "language_info": {
   "codemirror_mode": {
    "name": "ipython",
    "version": 3
   },
   "file_extension": ".py",
   "mimetype": "text/x-python",
   "name": "python",
   "nbconvert_exporter": "python",
   "pygments_lexer": "ipython3",
   "version": "3.8.8"
  }
 },
 "nbformat": 4,
 "nbformat_minor": 5
}
