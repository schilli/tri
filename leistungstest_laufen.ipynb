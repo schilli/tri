{
 "cells": [
  {
   "cell_type": "markdown",
   "id": "c4c9bc2c",
   "metadata": {},
   "source": [
    "# Leistungstest Analysis Laufen"
   ]
  },
  {
   "cell_type": "code",
   "execution_count": 1,
   "id": "090c27d9",
   "metadata": {},
   "outputs": [],
   "source": [
    "%load_ext autoreload\n",
    "%autoreload 2\n",
    "\n",
    "import math\n",
    "import pandas as pd\n",
    "import trilib\n",
    "\n",
    "import matplotlib.pyplot as plt\n",
    "%matplotlib inline"
   ]
  },
  {
   "cell_type": "markdown",
   "id": "e577ed71",
   "metadata": {},
   "source": [
    "## Load Data\n",
    "### Load the FIT file"
   ]
  },
  {
   "cell_type": "code",
   "execution_count": 2,
   "id": "a798ab6e",
   "metadata": {},
   "outputs": [],
   "source": [
    "fitfilename = \"../data/leistungstest_laufen_2021-04-18.fit\"\n",
    "df, units = trilib.fit2df(fitfilename)"
   ]
  },
  {
   "cell_type": "code",
   "execution_count": null,
   "id": "20b999b9",
   "metadata": {},
   "outputs": [],
   "source": [
    "df['pace'] = 1000 / (60*df.speed.copy())"
   ]
  },
  {
   "cell_type": "markdown",
   "id": "99db3db7",
   "metadata": {},
   "source": [
    "### Load CSV Round Times"
   ]
  },
  {
   "cell_type": "code",
   "execution_count": 8,
   "id": "7fdbde20",
   "metadata": {},
   "outputs": [],
   "source": [
    "rounds = trilib.read_rounds('../data/leistungstest_laufen_2021-04-18.csv', starttime=df.timestamp.min())"
   ]
  },
  {
   "cell_type": "code",
   "execution_count": 9,
   "id": "255d148a",
   "metadata": {},
   "outputs": [
    {
     "data": {
      "text/html": [
       "<div>\n",
       "<style scoped>\n",
       "    .dataframe tbody tr th:only-of-type {\n",
       "        vertical-align: middle;\n",
       "    }\n",
       "\n",
       "    .dataframe tbody tr th {\n",
       "        vertical-align: top;\n",
       "    }\n",
       "\n",
       "    .dataframe thead th {\n",
       "        text-align: right;\n",
       "    }\n",
       "</style>\n",
       "<table border=\"1\" class=\"dataframe\">\n",
       "  <thead>\n",
       "    <tr style=\"text-align: right;\">\n",
       "      <th></th>\n",
       "      <th>Runden</th>\n",
       "      <th>Zeit</th>\n",
       "      <th>Gesamtzeit</th>\n",
       "      <th>Distanz</th>\n",
       "      <th>Ø Pace</th>\n",
       "      <th>Ø Herzfrequenz</th>\n",
       "      <th>Maximale Herzfrequenz</th>\n",
       "      <th>Positiver Höhenunterschied</th>\n",
       "      <th>Negativer Höhenunterschied</th>\n",
       "      <th>Ø Schrittfrequenz (Laufen)</th>\n",
       "      <th>...</th>\n",
       "      <th>Ø Schrittlänge</th>\n",
       "      <th>Ø vertikale Bewegung</th>\n",
       "      <th>Durchschnittliches vertikales Verhältnis</th>\n",
       "      <th>Kalorien</th>\n",
       "      <th>Beste Pace</th>\n",
       "      <th>Max. Schrittfrequenz (Laufen)</th>\n",
       "      <th>Zeit in Bewegung</th>\n",
       "      <th>Ø Pace in Bewegung</th>\n",
       "      <th>start</th>\n",
       "      <th>end</th>\n",
       "    </tr>\n",
       "  </thead>\n",
       "  <tbody>\n",
       "    <tr>\n",
       "      <th>0</th>\n",
       "      <td>1</td>\n",
       "      <td>0 days 00:04:43.100000</td>\n",
       "      <td>0 days 00:04:43.100000</td>\n",
       "      <td>1,00</td>\n",
       "      <td>4:43</td>\n",
       "      <td>130</td>\n",
       "      <td>144</td>\n",
       "      <td>--</td>\n",
       "      <td>13</td>\n",
       "      <td>153</td>\n",
       "      <td>...</td>\n",
       "      <td>1,38</td>\n",
       "      <td>10,2</td>\n",
       "      <td>7,4</td>\n",
       "      <td>54</td>\n",
       "      <td>4:23</td>\n",
       "      <td>161</td>\n",
       "      <td>4:43,1</td>\n",
       "      <td>4:43</td>\n",
       "      <td>2021-04-18 16:50:43.000</td>\n",
       "      <td>2021-04-18 16:55:26.100</td>\n",
       "    </tr>\n",
       "    <tr>\n",
       "      <th>1</th>\n",
       "      <td>2</td>\n",
       "      <td>0 days 00:05:03.800000</td>\n",
       "      <td>0 days 00:09:46.900000</td>\n",
       "      <td>1,00</td>\n",
       "      <td>5:04</td>\n",
       "      <td>137</td>\n",
       "      <td>143</td>\n",
       "      <td>--</td>\n",
       "      <td>13</td>\n",
       "      <td>153</td>\n",
       "      <td>...</td>\n",
       "      <td>1,27</td>\n",
       "      <td>10,3</td>\n",
       "      <td>7,9</td>\n",
       "      <td>63</td>\n",
       "      <td>4:44</td>\n",
       "      <td>163</td>\n",
       "      <td>5:03</td>\n",
       "      <td>5:03</td>\n",
       "      <td>2021-04-18 16:55:26.100</td>\n",
       "      <td>2021-04-18 17:00:29.900</td>\n",
       "    </tr>\n",
       "    <tr>\n",
       "      <th>2</th>\n",
       "      <td>3</td>\n",
       "      <td>0 days 00:04:57.700000</td>\n",
       "      <td>0 days 00:14:45</td>\n",
       "      <td>1,00</td>\n",
       "      <td>4:58</td>\n",
       "      <td>138</td>\n",
       "      <td>144</td>\n",
       "      <td>5</td>\n",
       "      <td>8</td>\n",
       "      <td>153</td>\n",
       "      <td>...</td>\n",
       "      <td>1,31</td>\n",
       "      <td>10,3</td>\n",
       "      <td>7,8</td>\n",
       "      <td>61</td>\n",
       "      <td>4:32</td>\n",
       "      <td>165</td>\n",
       "      <td>4:57,7</td>\n",
       "      <td>4:58</td>\n",
       "      <td>2021-04-18 17:00:30.300</td>\n",
       "      <td>2021-04-18 17:05:28.000</td>\n",
       "    </tr>\n",
       "    <tr>\n",
       "      <th>3</th>\n",
       "      <td>4</td>\n",
       "      <td>0 days 00:02:35.200000</td>\n",
       "      <td>0 days 00:17:20</td>\n",
       "      <td>0,50</td>\n",
       "      <td>5:10</td>\n",
       "      <td>135</td>\n",
       "      <td>144</td>\n",
       "      <td>--</td>\n",
       "      <td>--</td>\n",
       "      <td>151</td>\n",
       "      <td>...</td>\n",
       "      <td>1,29</td>\n",
       "      <td>10,6</td>\n",
       "      <td>8,0</td>\n",
       "      <td>30</td>\n",
       "      <td>5:00</td>\n",
       "      <td>155</td>\n",
       "      <td>2:35</td>\n",
       "      <td>5:10</td>\n",
       "      <td>2021-04-18 17:05:27.800</td>\n",
       "      <td>2021-04-18 17:08:03.000</td>\n",
       "    </tr>\n",
       "    <tr>\n",
       "      <th>4</th>\n",
       "      <td>5</td>\n",
       "      <td>0 days 00:05:23.900000</td>\n",
       "      <td>0 days 00:22:44</td>\n",
       "      <td>1,00</td>\n",
       "      <td>5:24</td>\n",
       "      <td>130</td>\n",
       "      <td>135</td>\n",
       "      <td>--</td>\n",
       "      <td>3</td>\n",
       "      <td>150</td>\n",
       "      <td>...</td>\n",
       "      <td>1,23</td>\n",
       "      <td>10,6</td>\n",
       "      <td>8,4</td>\n",
       "      <td>55</td>\n",
       "      <td>5:15</td>\n",
       "      <td>153</td>\n",
       "      <td>5:23,9</td>\n",
       "      <td>5:24</td>\n",
       "      <td>2021-04-18 17:08:03.100</td>\n",
       "      <td>2021-04-18 17:13:27.000</td>\n",
       "    </tr>\n",
       "  </tbody>\n",
       "</table>\n",
       "<p>5 rows × 22 columns</p>\n",
       "</div>"
      ],
      "text/plain": [
       "  Runden                   Zeit             Gesamtzeit Distanz Ø Pace  \\\n",
       "0      1 0 days 00:04:43.100000 0 days 00:04:43.100000    1,00   4:43   \n",
       "1      2 0 days 00:05:03.800000 0 days 00:09:46.900000    1,00   5:04   \n",
       "2      3 0 days 00:04:57.700000        0 days 00:14:45    1,00   4:58   \n",
       "3      4 0 days 00:02:35.200000        0 days 00:17:20    0,50   5:10   \n",
       "4      5 0 days 00:05:23.900000        0 days 00:22:44    1,00   5:24   \n",
       "\n",
       "   Ø Herzfrequenz  Maximale Herzfrequenz Positiver Höhenunterschied  \\\n",
       "0             130                    144                         --   \n",
       "1             137                    143                         --   \n",
       "2             138                    144                          5   \n",
       "3             135                    144                         --   \n",
       "4             130                    135                         --   \n",
       "\n",
       "  Negativer Höhenunterschied  Ø Schrittfrequenz (Laufen)  ... Ø Schrittlänge  \\\n",
       "0                         13                         153  ...           1,38   \n",
       "1                         13                         153  ...           1,27   \n",
       "2                          8                         153  ...           1,31   \n",
       "3                         --                         151  ...           1,29   \n",
       "4                          3                         150  ...           1,23   \n",
       "\n",
       "  Ø vertikale Bewegung Durchschnittliches vertikales Verhältnis Kalorien  \\\n",
       "0                 10,2                                      7,4       54   \n",
       "1                 10,3                                      7,9       63   \n",
       "2                 10,3                                      7,8       61   \n",
       "3                 10,6                                      8,0       30   \n",
       "4                 10,6                                      8,4       55   \n",
       "\n",
       "  Beste Pace  Max. Schrittfrequenz (Laufen) Zeit in Bewegung  \\\n",
       "0       4:23                            161           4:43,1   \n",
       "1       4:44                            163             5:03   \n",
       "2       4:32                            165           4:57,7   \n",
       "3       5:00                            155             2:35   \n",
       "4       5:15                            153           5:23,9   \n",
       "\n",
       "   Ø Pace in Bewegung                   start                     end  \n",
       "0                4:43 2021-04-18 16:50:43.000 2021-04-18 16:55:26.100  \n",
       "1                5:03 2021-04-18 16:55:26.100 2021-04-18 17:00:29.900  \n",
       "2                4:58 2021-04-18 17:00:30.300 2021-04-18 17:05:28.000  \n",
       "3                5:10 2021-04-18 17:05:27.800 2021-04-18 17:08:03.000  \n",
       "4                5:24 2021-04-18 17:08:03.100 2021-04-18 17:13:27.000  \n",
       "\n",
       "[5 rows x 22 columns]"
      ]
     },
     "execution_count": 9,
     "metadata": {},
     "output_type": "execute_result"
    }
   ],
   "source": [
    "rounds.head()"
   ]
  },
  {
   "cell_type": "code",
   "execution_count": null,
   "id": "9c4700ad",
   "metadata": {},
   "outputs": [],
   "source": []
  },
  {
   "cell_type": "markdown",
   "id": "5dd9dbf4",
   "metadata": {},
   "source": [
    "## Take Average Pace and Heartrate of Rounds"
   ]
  },
  {
   "cell_type": "code",
   "execution_count": null,
   "id": "9db1f6eb",
   "metadata": {},
   "outputs": [],
   "source": [
    "round_numbers = ['5', '7', '9', '11', '13', '15']"
   ]
  },
  {
   "cell_type": "code",
   "execution_count": null,
   "id": "7eccb8ea",
   "metadata": {},
   "outputs": [],
   "source": [
    "roundnr = round_numbers[5]\n",
    "\n",
    "start = rounds.query('Runden == @roundnr').iloc[0].start\n",
    "end   = rounds.query('Runden == @roundnr').iloc[0].end"
   ]
  },
  {
   "cell_type": "code",
   "execution_count": null,
   "id": "111f8cfd",
   "metadata": {},
   "outputs": [],
   "source": [
    "df_round = df[(df.timestamp >= start) & (df.timestamp < end)]"
   ]
  },
  {
   "cell_type": "code",
   "execution_count": null,
   "id": "2862bc4c",
   "metadata": {},
   "outputs": [],
   "source": [
    "n_rows = df_round.shape[0]\n",
    "df_secondhalf = df_round.iloc[n_rows//2:,:]\n",
    "HR_mean = df_secondhalf.heart_rate.mean()\n",
    "pace_mean = df_secondhalf.pace.mean()\n",
    "print(pace_mean, HR_mean)"
   ]
  },
  {
   "cell_type": "code",
   "execution_count": null,
   "id": "e01f1804",
   "metadata": {},
   "outputs": [],
   "source": [
    "# 3 = 5:30 = 5.50 min/km\n",
    "# 5 = 3:20 = 3.33 min/km"
   ]
  },
  {
   "cell_type": "code",
   "execution_count": null,
   "id": "bddbc368",
   "metadata": {},
   "outputs": [],
   "source": [
    "fig, ax1 = plt.subplots()\n",
    "\n",
    "ax1.plot(df_round.timestamp, df_round.heart_rate, 'r', label='heart rate')\n",
    "ax1.set_ylabel('heart rate [BPM]')\n",
    "ax1.legend()\n",
    "\n",
    "ax2 = ax1.twinx()\n",
    "ax2.plot(df_round.timestamp, df_round.pace, 'b', label='pace')\n",
    "ax2.set_ylabel('pace [min/km]')\n",
    "ax2.legend();\n"
   ]
  },
  {
   "cell_type": "code",
   "execution_count": null,
   "id": "bc5cc795",
   "metadata": {},
   "outputs": [],
   "source": [
    "HR = []\n",
    "pace = []\n",
    "for roundnr in round_numbers:\n",
    "    df_round = rounds.query('Runden == @roundnr')\n",
    "    \n",
    "    start = rounds.query('Runden == @roundnr').iloc[0].start\n",
    "    end   = rounds.query('Runden == @roundnr').iloc[0].end\n",
    "    \n",
    "    df_round = df[(df.timestamp >= start) & (df.timestamp < end)]\n",
    "    \n",
    "    n_rows = df_round.shape[0]\n",
    "    df_secondhalf = df_round.iloc[n_rows//2:,:]\n",
    "    HR_mean = df_secondhalf.heart_rate.mean()\n",
    "    pace_mean = df_secondhalf.pace.mean()\n",
    "    \n",
    "    HR.append(HR_mean)\n",
    "    pace.append(pace_mean)"
   ]
  },
  {
   "cell_type": "code",
   "execution_count": null,
   "id": "e7b3385c",
   "metadata": {},
   "outputs": [],
   "source": [
    "for p, h in zip(pace, HR):\n",
    "    print(f'{math.floor(p)}:{round((p-math.floor(p))*60):02d}: {round(h)}')"
   ]
  },
  {
   "cell_type": "code",
   "execution_count": null,
   "id": "19b0b550",
   "metadata": {},
   "outputs": [],
   "source": [
    "plt.figure(figsize=(20,10))\n",
    "plt.plot(pace, HR, 'o')\n",
    "plt.grid(which='both')\n",
    "plt.ylabel('HR [BPM]')\n",
    "plt.xlabel('Pace [min/km]');"
   ]
  },
  {
   "cell_type": "code",
   "execution_count": null,
   "id": "947a1ea0",
   "metadata": {},
   "outputs": [],
   "source": [
    "df.columns"
   ]
  },
  {
   "cell_type": "code",
   "execution_count": null,
   "id": "cf3c4b6f",
   "metadata": {},
   "outputs": [],
   "source": [
    "df['unknown_90'].max()"
   ]
  },
  {
   "cell_type": "code",
   "execution_count": null,
   "id": "2933ce3e",
   "metadata": {},
   "outputs": [],
   "source": [
    "df = pd.DataFrame(df)"
   ]
  },
  {
   "cell_type": "code",
   "execution_count": null,
   "id": "d8e95267",
   "metadata": {},
   "outputs": [],
   "source": [
    "plt.plot(df['heart_rate'])"
   ]
  },
  {
   "cell_type": "code",
   "execution_count": null,
   "id": "1d37f672",
   "metadata": {},
   "outputs": [],
   "source": [
    "df.plot('heart_rate')"
   ]
  },
  {
   "cell_type": "code",
   "execution_count": null,
   "id": "f0fa82b6",
   "metadata": {},
   "outputs": [],
   "source": [
    "record."
   ]
  },
  {
   "cell_type": "code",
   "execution_count": null,
   "id": "9ac58c54",
   "metadata": {},
   "outputs": [],
   "source": [
    "# Iterate over all messages of type \"record\"\n",
    "# (other types include \"device_info\", \"file_creator\", \"event\", etc)\n",
    "for record in fitfile.get_messages(\"record\"):\n",
    "\n",
    "    # Records can contain multiple pieces of data (ex: timestamp, latitude, longitude, etc)\n",
    "    for data in record:\n",
    "\n",
    "        # Print the name and value of the data (and the units if it has any)\n",
    "        if data.units:\n",
    "            print(\" * {}: {} ({})\".format(data.name, data.value, data.units))\n",
    "        else:\n",
    "            print(\" * {}: {}\".format(data.name, data.value))\n",
    "\n",
    "    print(\"---\")"
   ]
  }
 ],
 "metadata": {
  "kernelspec": {
   "display_name": "Python 3",
   "language": "python",
   "name": "python3"
  },
  "language_info": {
   "codemirror_mode": {
    "name": "ipython",
    "version": 3
   },
   "file_extension": ".py",
   "mimetype": "text/x-python",
   "name": "python",
   "nbconvert_exporter": "python",
   "pygments_lexer": "ipython3",
   "version": "3.8.8"
  }
 },
 "nbformat": 4,
 "nbformat_minor": 5
}
